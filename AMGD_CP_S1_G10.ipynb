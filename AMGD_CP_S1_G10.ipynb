{
 "cells": [
  {
   "cell_type": "markdown",
   "id": "45e32014",
   "metadata": {},
   "source": [
    "# 0️⃣ Initialize environment"
   ]
  },
  {
   "cell_type": "code",
   "execution_count": null,
   "id": "c86ba5e4",
   "metadata": {},
   "outputs": [
    {
     "name": "stdout",
     "output_type": "stream",
     "text": [
      "🟦 Installing Libraries\n",
      "✅ Installing numpy\n",
      "numpy Version: 2.3.1\n",
      "✅ Installing pandas\n",
      "pandas Version: 2.3.1\n",
      "✅ Installing matplotlib\n",
      "matplotlib Version: 3.10.3\n",
      "✅ Installing seaborn\n",
      "seaborn Version: 0.13.2\n",
      "✅ Installing chardet\n",
      "chardet Version: 5.2.0\n",
      "✅ Installing requests\n",
      "requests Version: 2.32.4\n"
     ]
    },
    {
     "ename": "ModuleNotFoundError",
     "evalue": "No module named 'rando'",
     "output_type": "error",
     "traceback": [
      "\u001b[31m---------------------------------------------------------------------------\u001b[39m",
      "\u001b[31mModuleNotFoundError\u001b[39m                       Traceback (most recent call last)",
      "\u001b[36mCell\u001b[39m\u001b[36m \u001b[39m\u001b[32mIn[3]\u001b[39m\u001b[32m, line 41\u001b[39m\n\u001b[32m     39\u001b[39m \u001b[38;5;28;01mimport\u001b[39;00m\u001b[38;5;250m \u001b[39m\u001b[34;01mmatplotlib\u001b[39;00m\u001b[34;01m.\u001b[39;00m\u001b[34;01mpyplot\u001b[39;00m\u001b[38;5;250m \u001b[39m\u001b[38;5;28;01mas\u001b[39;00m\u001b[38;5;250m \u001b[39m\u001b[34;01mpyplot\u001b[39;00m\n\u001b[32m     40\u001b[39m \u001b[38;5;28;01mimport\u001b[39;00m\u001b[38;5;250m \u001b[39m\u001b[34;01mdatetime\u001b[39;00m\n\u001b[32m---> \u001b[39m\u001b[32m41\u001b[39m \u001b[38;5;28;01mimport\u001b[39;00m\u001b[38;5;250m \u001b[39m\u001b[34;01mrando\u001b[39;00m\n\u001b[32m     42\u001b[39m \u001b[38;5;28;01mimport\u001b[39;00m\u001b[38;5;250m \u001b[39m\u001b[34;01mzipfile\u001b[39;00m\n\u001b[32m     45\u001b[39m \u001b[38;5;66;03m# Printing the versions of the environment\u001b[39;00m\n",
      "\u001b[31mModuleNotFoundError\u001b[39m: No module named 'rando'"
     ]
    }
   ],
   "source": [
    "\n",
    "import subprocess\n",
    "import sys\n",
    "from importlib.metadata import version\n",
    "\n",
    "# Installing the required libraries\n",
    "print(\"🟦 Installing Libraries\")\n",
    "\n",
    "print(\"✅ Installing numpy\")\n",
    "subprocess.run([sys.executable, \"-m\", \"pip\", \"install\", \"numpy\"], stdout=subprocess.DEVNULL, stderr=subprocess.DEVNULL)\n",
    "import numpy as numpy\n",
    "print(f\"{numpy.__name__} Version: {version(numpy.__name__)}\")\n",
    "\n",
    "print(\"✅ Installing pandas\")\n",
    "subprocess.run([sys.executable, \"-m\", \"pip\", \"install\", \"pandas\"], stdout=subprocess.DEVNULL, stderr=subprocess.DEVNULL)\n",
    "import pandas as pandas\n",
    "print(f\"{pandas.__name__} Version: {version(pandas.__name__)}\")\n",
    "\n",
    "print(\"✅ Installing matplotlib\")\n",
    "subprocess.run([sys.executable, \"-m\", \"pip\", \"install\", \"matplotlib\"], stdout=subprocess.DEVNULL, stderr=subprocess.DEVNULL)\n",
    "import matplotlib as matplotlib\n",
    "print(f\"{matplotlib.__name__} Version: {version(matplotlib.__name__)}\")\n",
    "\n",
    "print(\"✅ Installing seaborn\")\n",
    "subprocess.run([sys.executable, \"-m\", \"pip\", \"install\", \"seaborn\"], stdout=subprocess.DEVNULL, stderr=subprocess.DEVNULL)\n",
    "import seaborn as seaborn\n",
    "print(f\"{seaborn.__name__} Version: {version(seaborn.__name__)}\")\n",
    "\n",
    "print(\"✅ Installing chardet\")\n",
    "subprocess.run([sys.executable, \"-m\", \"pip\", \"install\", \"chardet\"], stdout=subprocess.DEVNULL, stderr=subprocess.DEVNULL)\n",
    "import chardet\n",
    "print(f\"{chardet.__name__} Version: {version(chardet.__name__)}\")\n",
    "\n",
    "print(\"✅ Installing requests\")\n",
    "subprocess.run([sys.executable, \"-m\", \"pip\", \"install\", \"requests\"], stdout=subprocess.DEVNULL, stderr=subprocess.DEVNULL)\n",
    "import requests\n",
    "print(f\"{requests.__name__} Version: {version(requests.__name__)}\")\n",
    "\n",
    "# Importing the libraries\n",
    "import matplotlib.pyplot as pyplot\n",
    "import datetime\n",
    "import random\n",
    "import zipfile\n",
    "\n",
    "\n",
    "# Printing the versions of the environment\n",
    "print(\"\", end=\"\\n\\n\")\n",
    "print(\"🟦 List Environment\")\n",
    "capture = subprocess.run([sys.executable, \"--version\"],capture_output=True, text=True)\n",
    "captureText = capture.stdout.strip() or capture.stderr.strip()\n",
    "print(f\"✅ {captureText}\")\n",
    "capture = subprocess.run([sys.executable, \"-m\", \"pip\", \"--version\"] ,capture_output=True, text=True)\n",
    "captureText = capture.stdout.strip() or capture.stderr.strip()\n",
    "print(f\"✅ {captureText}\")"
   ]
  },
  {
   "cell_type": "markdown",
   "id": "3104ad4f",
   "metadata": {},
   "source": [
    "# 1️⃣ Generate/Loading dataset"
   ]
  },
  {
   "cell_type": "code",
   "execution_count": null,
   "id": "17f55386",
   "metadata": {},
   "outputs": [
    {
     "name": "stdout",
     "output_type": "stream",
     "text": [
      "▶️ downloading file...\n",
      "Error downloading file: 401 Client Error: Unauthorized for url: https://my.microsoftpersonalcontent.com/personal/b1115e5860e640e8/_layouts/15/download.aspx?UniqueId=3ff424b3-a2a3-4db7-a1c9-409aa4ba7797&Translate=false&tempauth=v1e.eyJzaXRlaWQiOiI5ZTNkMDZiMy1hMDA3LTQ5ZTgtOTFmNy1iZDc0MDhmODE5YmYiLCJhdWQiOiIwMDAwMDAwMy0wMDAwLTBmZjEtY2UwMC0wMDAwMDAwMDAwMDAvbXkubWljcm9zb2Z0cGVyc29uYWxjb250ZW50LmNvbUA5MTg4MDQwZC02YzY3LTRjNWItYjExMi0zNmEzMDRiNjZkYWQiLCJleHAiOiIxNzUzMDQxOTc2In0.xoBowduoJ6TglLHXcbPEbpyubY6APHZSMNu9ofAyhGduu7W8AuW_G510X45gL_fcrHRUG_YOXpLAWwaE_2qKTR0S9wYeXKjWRmpsjb3s7DDTfz-7tcPTfbQdU7HjED8Yksu3z5qtqeAd7T6GCnRFkZBfAaUVb0aAPj-bKC24Ez7lWlUesN3AG-0VgirLN4xB9b9y3TTTuR6PQ9viHDNY2C6ldqruTWTcL8WlQzFUM3AZZi5uEYXOavPLByoQzjdcVwIR5atj095Mynyw3SY0oQqsKz0awRugnwypHOmIGHsQpD5c3zpBilM5qGsyrcp7qDLkxHw25TkFychWTvFb9RovhtLVgiP-spPLBVIUFrJyRCWURWARQhLNm7XW0ACnNKuWpKj0yB41Z69CS2JaXicOf4j_nwzbZ1r-QEiBjNltAcpECufixAMPNlI8rRSXjPR0j4MDHLQZIs4vSwn6ZzrIYeVF1D7s3F0yPwjAh0j1iazAdEYwX9YQuMC29qGYLTpoFvei1Ye18OCMt2ZkPg.5Tbx8vUJtcnzQs7tQJHXfTSTlsuF93WLseY1ILu-RYQ&ApiVersion=2.0\n",
      "▶️ unziping file...\n",
      "Unzipped to: c:\\Users\\Megam\\OneDrive\\Escritorio\\1-Arquitectura-Modelado-Gestion-Datos-Data-Science-Tarea1\\Data\n"
     ]
    }
   ],
   "source": [
    "\n",
    "\n",
    "# Downloading and Unzipping data file \n",
    "\n",
    "import requests\n",
    "import zipfile\n",
    "import os\n",
    "\n",
    "filenameUri = \"https://my.microsoftpersonalcontent.com/personal/b1115e5860e640e8/_layouts/15/download.aspx?UniqueId=3ff424b3-a2a3-4db7-a1c9-409aa4ba7797&Translate=false&tempauth=v1e.eyJzaXRlaWQiOiI5ZTNkMDZiMy1hMDA3LTQ5ZTgtOTFmNy1iZDc0MDhmODE5YmYiLCJhdWQiOiIwMDAwMDAwMy0wMDAwLTBmZjEtY2UwMC0wMDAwMDAwMDAwMDAvbXkubWljcm9zb2Z0cGVyc29uYWxjb250ZW50LmNvbUA5MTg4MDQwZC02YzY3LTRjNWItYjExMi0zNmEzMDRiNjZkYWQiLCJleHAiOiIxNzUzMDQxOTc2In0.xoBowduoJ6TglLHXcbPEbpyubY6APHZSMNu9ofAyhGduu7W8AuW_G510X45gL_fcrHRUG_YOXpLAWwaE_2qKTR0S9wYeXKjWRmpsjb3s7DDTfz-7tcPTfbQdU7HjED8Yksu3z5qtqeAd7T6GCnRFkZBfAaUVb0aAPj-bKC24Ez7lWlUesN3AG-0VgirLN4xB9b9y3TTTuR6PQ9viHDNY2C6ldqruTWTcL8WlQzFUM3AZZi5uEYXOavPLByoQzjdcVwIR5atj095Mynyw3SY0oQqsKz0awRugnwypHOmIGHsQpD5c3zpBilM5qGsyrcp7qDLkxHw25TkFychWTvFb9RovhtLVgiP-spPLBVIUFrJyRCWURWARQhLNm7XW0ACnNKuWpKj0yB41Z69CS2JaXicOf4j_nwzbZ1r-QEiBjNltAcpECufixAMPNlI8rRSXjPR0j4MDHLQZIs4vSwn6ZzrIYeVF1D7s3F0yPwjAh0j1iazAdEYwX9YQuMC29qGYLTpoFvei1Ye18OCMt2ZkPg.5Tbx8vUJtcnzQs7tQJHXfTSTlsuF93WLseY1ILu-RYQ&ApiVersion=2.0\"\n",
    "dataDir = \"Data\"\n",
    "compressedFilename = \"Data.zip\"\n",
    "csvFilename = \"Data.csv\"\n",
    "\n",
    "def DownloadFile(uri: str, filename: str):\n",
    "    try:\n",
    "        os.makedirs(os.path.dirname(filename), exist_ok=True)\n",
    "        respuesta = requests.get(uri)\n",
    "        respuesta.raise_for_status() \n",
    "        with open(filename, 'wb') as archivo:\n",
    "            archivo.write(respuesta.content)\n",
    "        print(f\"File {filename} was downloaded successfully.\")\n",
    "    except requests.exceptions.RequestException as e:\n",
    "        print(f\"Error downloading file: {e}\")\n",
    "\n",
    "def UnzipFile(filename: str, outputDir: str):\n",
    "    try:\n",
    "        with zipfile.ZipFile(filename, 'r') as zip_ref:\n",
    "            zip_ref.extractall(outputDir)\n",
    "        print(f\"Unzipped to: {os.path.abspath(outputDir)}\")\n",
    "    except Exception as e:\n",
    "        print(f\"Error: {e}\")\n",
    "\n",
    "print(\"▶️ downloading file...\")\n",
    "DownloadFile(filenameUri, f\"{dataDir}/{compressedFilename}\")\n",
    "print(\"▶️ unziping file...\")\n",
    "UnzipFile(f\"{dataDir}/{compressedFilename}\", f\"{dataDir}\")"
   ]
  },
  {
   "cell_type": "code",
   "execution_count": null,
   "id": "092d7415",
   "metadata": {},
   "outputs": [
    {
     "name": "stdout",
     "output_type": "stream",
     "text": [
      "Detected encoding: UTF-8-SIG\n"
     ]
    }
   ],
   "source": [
    "# Loading CSV file\n",
    "def LoadCsvWithDetectedEncoding(filePath, byteSampleSize=100000):\n",
    "    with open(filePath, 'rb') as file:\n",
    "        detectionResult = chardet.detect(file.read(byteSampleSize))\n",
    "        encoding = detectionResult['encoding']\n",
    "        print(f\"Detected encoding: {encoding}\")\n",
    "\n",
    "    df = pandas.read_csv(filePath, encoding=encoding, nrows=500)\n",
    "    return df\n",
    "dataFrameSales = LoadCsvWithDetectedEncoding(\"Data/Data.csv\")\n"
   ]
  },
  {
   "cell_type": "code",
   "execution_count": null,
   "id": "0446ccff",
   "metadata": {},
   "outputs": [
    {
     "name": "stdout",
     "output_type": "stream",
     "text": [
      "🟦 DataFrame Info Processed\n",
      "✅ Info\n",
      "<class 'pandas.core.frame.DataFrame'>\n",
      "RangeIndex: 500 entries, 0 to 499\n",
      "Data columns (total 8 columns):\n",
      " #   Column           Non-Null Count  Dtype         \n",
      "---  ------           --------------  -----         \n",
      " 0   InvoiceId        500 non-null    object        \n",
      " 1   ProductId        500 non-null    object        \n",
      " 2   ProductName      500 non-null    object        \n",
      " 3   Quantity         500 non-null    int64         \n",
      " 4   InvoiceDatetime  500 non-null    datetime64[ns]\n",
      " 5   UnitPrice        500 non-null    float64       \n",
      " 6   CustomerId       500 non-null    int64         \n",
      " 7   CountryName      500 non-null    object        \n",
      "dtypes: datetime64[ns](1), float64(1), int64(2), object(4)\n",
      "memory usage: 31.4+ KB\n",
      "None\n",
      "✅ Describe\n",
      "         Quantity             InvoiceDatetime   UnitPrice    CustomerId\n",
      "count  500.000000                         500  500.000000    500.000000\n",
      "mean    16.754000  2010-12-01 10:27:27.840000    3.608880  15666.764000\n",
      "min      0.000000         2010-12-01 08:26:00    0.100000  12431.000000\n",
      "25%      3.000000         2010-12-01 09:41:00    1.250000  14307.000000\n",
      "50%      6.000000         2010-12-01 10:29:00    2.100000  15862.000000\n",
      "75%     12.000000         2010-12-01 11:21:00    3.950000  17511.000000\n",
      "max    432.000000         2010-12-01 11:45:00  165.000000  18074.000000\n",
      "std     38.428883                         NaN    8.071726   1762.454843\n"
     ]
    }
   ],
   "source": [
    "# Columnas en el archivo original.\n",
    "# [InvoiceNo,StockCode,Description,Quantity,InvoiceDate,UnitPrice,CustomerID,Country]\n",
    "# Columnas sugeridas en la tarea.\n",
    "# [\"ID_Transaccion\", \"Producto_SKU\",\"Nombre_Producto\",\"Cantidad\",\"Fecha_Transaccion\",\"Precio_Unitario\",\"ID_Cliente\",\"Ciudad_Envio\"]\n",
    "# Columnas utilizadas por los developers para normalizar los nombres. En el archivo se encuentran países en lugar de ciudades. Adicional no se tiene las categorías, métodos de pago, calificación y valor total de la transacción.\n",
    "dataFrameSales.columns = [\"InvoiceId\", # int64, luego se descubrió que es str\n",
    "                         \"ProductId\", # str\n",
    "                         \"ProductName\", # str \n",
    "                         \"Quantity\", # int64 ok\n",
    "                         \"InvoiceDatetime\", # datetime\n",
    "                         \"UnitPrice\", # float ok\n",
    "                         \"CustomerId\", # int ok\n",
    "                         \"CountryName\"] # string\n",
    "\n",
    "def DisplayDataFrameInfo(df,title,headQty=10 ):\n",
    "    print(f\"🟦 DataFrame Info {title}\")\n",
    "    print(\"✅ Info\")\n",
    "    print(df.info())\n",
    "    print(\"✅ Describe\")\n",
    "    print(df.describe())\n",
    "\n",
    "# Displaying DataFrame information\n",
    "headQty = 10\n",
    "#DisplayDataFrameInfo(dataFrameSales,\"Original\", headQty )\n",
    "\n",
    "# Normalizing data types\n",
    "dataFrameSales[\"InvoiceId\"] = dataFrameSales[\"InvoiceId\"].astype(str).str.strip().str.upper()\n",
    "\n",
    "dataFrameSales[\"ProductId\"] = dataFrameSales[\"ProductId\"].astype(str).str.strip().str.upper()\n",
    "\n",
    "dataFrameSales[\"ProductName\"] = dataFrameSales[\"ProductName\"].astype(str).str.strip().str.upper()\n",
    "\n",
    "dataFrameSales[\"Quantity\"] = dataFrameSales[\"Quantity\"].apply(lambda x: max(x, 0))  \n",
    "\n",
    "dataFrameSales[\"InvoiceDatetime\"] = dataFrameSales[\"InvoiceDatetime\"].astype(str).str.strip().str.upper()\n",
    "\n",
    "dataFrameSales[\"UnitPrice\"] = dataFrameSales[\"UnitPrice\"]\n",
    "\n",
    "dataFrameSales[\"InvoiceDatetime\"] = pandas.to_datetime(dataFrameSales[\"InvoiceDatetime\"])\n",
    "\n",
    "dataFrameSales[\"CountryName\"] = dataFrameSales[\"CountryName\"].astype(str).str.strip().str.upper()\n",
    "\n",
    "DisplayDataFrameInfo(dataFrameSales, \"Processed\", headQty)\n",
    "\n",
    "\n"
   ]
  }
 ],
 "metadata": {
  "kernelspec": {
   "display_name": "Python 3",
   "language": "python",
   "name": "python3"
  },
  "language_info": {
   "codemirror_mode": {
    "name": "ipython",
    "version": 3
   },
   "file_extension": ".py",
   "mimetype": "text/x-python",
   "name": "python",
   "nbconvert_exporter": "python",
   "pygments_lexer": "ipython3",
   "version": "3.13.5"
  }
 },
 "nbformat": 4,
 "nbformat_minor": 5
}
